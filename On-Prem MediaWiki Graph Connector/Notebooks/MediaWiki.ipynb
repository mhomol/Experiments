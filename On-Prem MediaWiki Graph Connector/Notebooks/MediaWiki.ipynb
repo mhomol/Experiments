{
 "cells": [
  {
   "cell_type": "markdown",
   "metadata": {},
   "source": [
    "# Setting up your own MediaWiki\n",
    "\n",
    "> Uses Containers and ACR\n",
    "\n",
    "## Point to the right account"
   ]
  },
  {
   "cell_type": "code",
   "execution_count": null,
   "metadata": {},
   "outputs": [],
   "source": [
    "az account set -s fcda8dd1-d933-4405-8d6e-c6b573500a52"
   ]
  },
  {
   "cell_type": "code",
   "execution_count": null,
   "metadata": {},
   "outputs": [],
   "source": [
    "az account show"
   ]
  },
  {
   "cell_type": "markdown",
   "metadata": {},
   "source": [
    "## Create the Resource Group\n",
    "\n",
    "> Everything should go in here.  I am not using PowerShell variables, like I should.  This is down and dirty."
   ]
  },
  {
   "cell_type": "code",
   "execution_count": null,
   "metadata": {},
   "outputs": [],
   "source": [
    "az group create --name HomolWikiRG --location eastus"
   ]
  },
  {
   "cell_type": "markdown",
   "metadata": {},
   "source": [
    "## Create the Azure Container Registry to store whatever images we will need for this"
   ]
  },
  {
   "cell_type": "code",
   "execution_count": null,
   "metadata": {},
   "outputs": [],
   "source": [
    "az acr create --name HomolWikiACR --location eastus --resource-group HomolWikiRG --sku Basic"
   ]
  },
  {
   "cell_type": "markdown",
   "metadata": {},
   "source": [
    "## Import/Add MediaWiki server"
   ]
  },
  {
   "cell_type": "code",
   "execution_count": null,
   "metadata": {},
   "outputs": [],
   "source": [
    "az acr import -n HomolWikiACR --source docker.io/library/mediawiki:latest"
   ]
  },
  {
   "cell_type": "markdown",
   "metadata": {},
   "source": [
    "> IMPORTANT: Turn on Admin Keys on the ACR FIRST"
   ]
  },
  {
   "cell_type": "markdown",
   "metadata": {},
   "source": [
    "## Add Azure storage as a volume to the container.  \n",
    "\n",
    "> Hoping that this will allow us to transfer files, like the localSettings.php file"
   ]
  },
  {
   "cell_type": "code",
   "execution_count": null,
   "metadata": {},
   "outputs": [],
   "source": [
    "az storage account create --resource-group HomolWikiRG --location eastus --name homolwikistorage --sku STANDARD_LRS"
   ]
  },
  {
   "cell_type": "markdown",
   "metadata": {},
   "source": [
    "## Create the FileShare"
   ]
  },
  {
   "cell_type": "code",
   "execution_count": null,
   "metadata": {},
   "outputs": [],
   "source": [
    "az storage share create --name acishare --account-name homolwikistorage"
   ]
  },
  {
   "cell_type": "code",
   "execution_count": null,
   "metadata": {},
   "outputs": [],
   "source": [
    "az storage account keys list --resource-group HomolWikiRG --account-name homolwikistorage --query \"[0].value\" --output tsv"
   ]
  },
  {
   "cell_type": "markdown",
   "metadata": {},
   "source": [
    "## Create the actual web server\n",
    "\n",
    "> This attaches the FileShare for saving state (if possible) and transfering files.  It also pulls the image from ACR and provides the domain prefix of homolwiki"
   ]
  },
  {
   "cell_type": "code",
   "execution_count": null,
   "metadata": {},
   "outputs": [],
   "source": [
    "az container create -g HomolWikiRG -n homolwiki --image homolwikiacr.azurecr.io/library/mediawiki:latest --ip-address Public --ports 80 443 22 --registry-username HomolWikiACR --registry-password YH5CBPMBeu=C3sGd58uB4v0qyeZVY2JL --dns-name-label homolwiki --azure-file-volume-account-name homolwikistorage --azure-file-volume-account-key J2+lccnZEhQe76Q0E553BQNZlSUZcq736pgdy5NbsNjzZQYPJ6wCJLYOYkTUbXnV+aLmUof8ad/IVrUHPj4YCw== --azure-file-volume-share-name acishare --azure-file-volume-mount-path /aci/"
   ]
  },
  {
   "cell_type": "markdown",
   "metadata": {},
   "source": [
    "## Import/Add MySQL server\n",
    "\n",
    "> This step may not be necessary for testing, now that we know that you can just choose SQLite to run everything directly from a single container.  I was never able to get the site container to talk to the DB contaner."
   ]
  },
  {
   "cell_type": "code",
   "execution_count": null,
   "metadata": {},
   "outputs": [],
   "source": [
    "az acr import -n HomolWikiACR --source docker.io/library/mysql:latest"
   ]
  },
  {
   "cell_type": "code",
   "execution_count": null,
   "metadata": {},
   "outputs": [],
   "source": [
    "az container create -g HomolWikiRG -n homolwikidb --image homolwikiacr.azurecr.io/library/mysql:latest --ip-address Public -e MYSQL_ROOT_PASSWORD=  --ports 80 8080"
   ]
  },
  {
   "cell_type": "markdown",
   "metadata": {},
   "source": [
    "## Setup your MediaWiki site.\n",
    "\n",
    "> If all went well, you should have a site at http://homolwiki.eastus.azurecontainer.io\n",
    "\n",
    "> Walk through the wizard.  If you skipped the MySQL portion, be sure to select the SQLite option during setup. At the end you should get a `localsettings.php` file"
   ]
  },
  {
   "cell_type": "markdown",
   "metadata": {},
   "source": [
    "## Add the file to the mounted FileShare drive\n",
    "\n",
    "> Download the `localSettings.php` file and upload it to a location inside the new file share volume you made in Azure Storage.  I made a new directory called wiki_install and uploaded the file there, which made the file path this: https://homolwikistorage.file.core.windows.net/acishare/wiki_install/LocalSettings.php"
   ]
  },
  {
   "cell_type": "markdown",
   "metadata": {},
   "source": [
    "## Bash"
   ]
  },
  {
   "cell_type": "code",
   "execution_count": null,
   "metadata": {},
   "outputs": [],
   "source": [
    "az container exec --resource-group HomolWikiRG --name homolwiki --exec-command \"/bin/bash\""
   ]
  },
  {
   "cell_type": "markdown",
   "metadata": {},
   "source": [
    "> This gets you a bash terminal on the running container.  Woo hoo!\n",
    "\n",
    "> Here is the command you need to run on that terminal session:\n",
    "\n",
    "```\n",
    "cp /aci/wiki_install/LocalSettings.php .\n",
    "```\n",
    "\n",
    "> Now `localSettings.php` should exist in the site's root directory.  Run `ls` to confirm you see it."
   ]
  },
  {
   "cell_type": "markdown",
   "metadata": {},
   "source": [
    "## All set!\n",
    "\n",
    "> Your wiki should now show up, as expected."
   ]
  },
  {
   "cell_type": "code",
   "execution_count": null,
   "metadata": {},
   "outputs": [],
   "source": []
  }
 ],
 "metadata": {
  "kernelspec": {
   "display_name": ".NET (PowerShell)",
   "language": "PowerShell",
   "name": ".net-powershell"
  },
  "language_info": {
   "file_extension": ".ps1",
   "mimetype": "text/x-powershell",
   "name": "PowerShell",
   "pygments_lexer": "powershell",
   "version": "7.0"
  }
 },
 "nbformat": 4,
 "nbformat_minor": 4
}
